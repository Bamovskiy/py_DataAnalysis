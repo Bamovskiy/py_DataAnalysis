{
 "cells": [
  {
   "cell_type": "markdown",
   "metadata": {
    "id": "aAplsA3K0WrB"
   },
   "source": [
    "Создание класса **Chocolate**"
   ]
  },
  {
   "cell_type": "code",
   "execution_count": 1,
   "metadata": {
    "executionInfo": {
     "elapsed": 236,
     "status": "ok",
     "timestamp": 1733570187233,
     "user": {
      "displayName": "Влад Фрундин",
      "userId": "08744530882267181164"
     },
     "user_tz": -180
    },
    "id": "26jWGtyH0oAH"
   },
   "outputs": [],
   "source": [
    "class Chocolate:\n",
    "\n",
    "    price = None\n",
    "    add_to_choc = None\n",
    "\n",
    "    def __init__(self, price, add_to_choc=None):\n",
    "        if price <= 0:\n",
    "            raise ValueError(\"Price can't be lower than 0\")\n",
    "        else:\n",
    "            self.price = price\n",
    "            self.add_to_choc = add_to_choc\n",
    "\n",
    "    def show_my_chocolate(self):\n",
    "        if self.add_to_choc == None:\n",
    "            print(\"Обычный шоколадный батончик\")\n",
    "        else:\n",
    "            print(f\"Шоколадный батончик, добавка: {self.add_to_choc}\")\n",
    "\n",
    "    def __str__(self):\n",
    "        return f\"Шоколадный батончик, {self.price} рублей\"\n"
   ]
  },
  {
   "cell_type": "markdown",
   "metadata": {
    "id": "2ka7Vh1b1M5m"
   },
   "source": [
    "Проверка конструктора и методов"
   ]
  },
  {
   "cell_type": "code",
   "execution_count": 2,
   "metadata": {
    "colab": {
     "base_uri": "https://localhost:8080/"
    },
    "executionInfo": {
     "elapsed": 240,
     "status": "ok",
     "timestamp": 1733570164071,
     "user": {
      "displayName": "Влад Фрундин",
      "userId": "08744530882267181164"
     },
     "user_tz": -180
    },
    "id": "pPc6zZje1MUF",
    "outputId": "79dbca0a-6318-418d-e441-08b5e30635bb"
   },
   "outputs": [
    {
     "name": "stdout",
     "output_type": "stream",
     "text": [
      "Шоколадный батончик, добавка: Лесной Орех\n",
      "Шоколадный батончик, 35 рублей\n"
     ]
    }
   ],
   "source": [
    "snikers = Chocolate(35, \"Лесной Орех\")\n",
    "snikers.show_my_chocolate()\n",
    "print(snikers)"
   ]
  },
  {
   "cell_type": "code",
   "execution_count": 3,
   "metadata": {
    "colab": {
     "base_uri": "https://localhost:8080/"
    },
    "executionInfo": {
     "elapsed": 250,
     "status": "ok",
     "timestamp": 1733570179001,
     "user": {
      "displayName": "Влад Фрундин",
      "userId": "08744530882267181164"
     },
     "user_tz": -180
    },
    "id": "aqxBeY3I1YYg",
    "outputId": "e9bbff2b-aab2-45e4-c5cc-4aa6d3b255be"
   },
   "outputs": [
    {
     "name": "stdout",
     "output_type": "stream",
     "text": [
      "Обычный шоколадный батончик\n",
      "Шоколадный батончик, 24 рублей\n"
     ]
    }
   ],
   "source": [
    "mars = Chocolate(24)\n",
    "mars.show_my_chocolate()\n",
    "print(mars)"
   ]
  },
  {
   "cell_type": "code",
   "execution_count": 4,
   "metadata": {
    "colab": {
     "base_uri": "https://localhost:8080/",
     "height": 297
    },
    "executionInfo": {
     "elapsed": 240,
     "status": "error",
     "timestamp": 1733570219146,
     "user": {
      "displayName": "Влад Фрундин",
      "userId": "08744530882267181164"
     },
     "user_tz": -180
    },
    "id": "HiSQ7rJB1F9n",
    "outputId": "fffdce16-2200-4e68-c55b-6bde17d516f2"
   },
   "outputs": [
    {
     "ename": "ValueError",
     "evalue": "Price can't be lower than 0",
     "output_type": "error",
     "traceback": [
      "\u001b[1;31m---------------------------------------------------------------------------\u001b[0m",
      "\u001b[1;31mValueError\u001b[0m                                Traceback (most recent call last)",
      "Cell \u001b[1;32mIn[4], line 1\u001b[0m\n\u001b[1;32m----> 1\u001b[0m milkway\u001b[38;5;241m=\u001b[39m\u001b[43mChocolate\u001b[49m\u001b[43m(\u001b[49m\u001b[38;5;241;43m0\u001b[39;49m\u001b[43m)\u001b[49m\n\u001b[0;32m      2\u001b[0m milkway\u001b[38;5;241m.\u001b[39mshow_my_chocolate()\n\u001b[0;32m      3\u001b[0m \u001b[38;5;28mprint\u001b[39m(milkway)\n",
      "Cell \u001b[1;32mIn[1], line 8\u001b[0m, in \u001b[0;36mChocolate.__init__\u001b[1;34m(self, price, add_to_choc)\u001b[0m\n\u001b[0;32m      6\u001b[0m \u001b[38;5;28;01mdef\u001b[39;00m \u001b[38;5;21m__init__\u001b[39m(\u001b[38;5;28mself\u001b[39m, price, add_to_choc\u001b[38;5;241m=\u001b[39m\u001b[38;5;28;01mNone\u001b[39;00m):\n\u001b[0;32m      7\u001b[0m     \u001b[38;5;28;01mif\u001b[39;00m price \u001b[38;5;241m<\u001b[39m\u001b[38;5;241m=\u001b[39m \u001b[38;5;241m0\u001b[39m:\n\u001b[1;32m----> 8\u001b[0m         \u001b[38;5;28;01mraise\u001b[39;00m \u001b[38;5;167;01mValueError\u001b[39;00m(\u001b[38;5;124m\"\u001b[39m\u001b[38;5;124mPrice can\u001b[39m\u001b[38;5;124m'\u001b[39m\u001b[38;5;124mt be lower than 0\u001b[39m\u001b[38;5;124m\"\u001b[39m)\n\u001b[0;32m      9\u001b[0m     \u001b[38;5;28;01melse\u001b[39;00m:\n\u001b[0;32m     10\u001b[0m         \u001b[38;5;28mself\u001b[39m\u001b[38;5;241m.\u001b[39mprice \u001b[38;5;241m=\u001b[39m price\n",
      "\u001b[1;31mValueError\u001b[0m: Price can't be lower than 0"
     ]
    }
   ],
   "source": [
    "milkway=Chocolate(0)\n",
    "milkway.show_my_chocolate()\n",
    "print(milkway)"
   ]
  }
 ],
 "metadata": {
  "colab": {
   "authorship_tag": "ABX9TyPY2eoMpKJ539XRy2PaERPe",
   "provenance": []
  },
  "kernelspec": {
   "display_name": "Python 3",
   "name": "python3"
  },
  "language_info": {
   "codemirror_mode": {
    "name": "ipython",
    "version": 3
   },
   "file_extension": ".py",
   "mimetype": "text/x-python",
   "name": "python",
   "nbconvert_exporter": "python",
   "pygments_lexer": "ipython3",
   "version": "3.9.13"
  }
 },
 "nbformat": 4,
 "nbformat_minor": 0
}
